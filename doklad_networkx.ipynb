{
  "nbformat": 4,
  "nbformat_minor": 0,
  "metadata": {
    "colab": {
      "provenance": []
    },
    "kernelspec": {
      "name": "python3",
      "display_name": "Python 3"
    },
    "language_info": {
      "name": "python"
    }
  },
  "cells": [
    {
      "cell_type": "markdown",
      "source": [
        "# NetworkX"
      ],
      "metadata": {
        "id": "3jmOeAQXq1Z6"
      }
    },
    {
      "cell_type": "markdown",
      "source": [
        "##Для чего эта библиотека?"
      ],
      "metadata": {
        "id": "LtnbI-_Or0Eb"
      }
    },
    {
      "cell_type": "markdown",
      "source": [
        "[NetworkX](https://networkx.org/documentation/stable/index.html) - Python библиотека для удобной работы с графами и любыми сетевыми структурами. Она умеет:\n",
        "\n",
        "*   Создавать и генерировать разные виды графов\n",
        "*   Проводить всяческие манипуляции над ними\n",
        "*   Анализировать и рисовать их\n",
        "*   Записывать в разных форматах\n",
        "\n",
        " Утверждается, что она отлично работает с большими графами и вообще быстрая, это проверим ниже). Давайте посмотрим, чем же так хороша эта библиотека."
      ],
      "metadata": {
        "id": "yLPe31bisByL"
      }
    },
    {
      "cell_type": "code",
      "source": [
        "import networkx as nx"
      ],
      "metadata": {
        "id": "9RfNFOrkwQFW"
      },
      "execution_count": null,
      "outputs": []
    },
    {
      "cell_type": "markdown",
      "source": [
        "##Объекты"
      ],
      "metadata": {
        "id": "ThgQWM8Bw32l"
      }
    },
    {
      "cell_type": "markdown",
      "source": [
        "### Вершины"
      ],
      "metadata": {
        "id": "rXAXjma03O51"
      }
    },
    {
      "cell_type": "markdown",
      "source": [
        "Вспомним, математическое определение графа - совокупность множества вершин и множества рёбер.\n",
        "В NetworkX тоже самое - любой граф это множество вершин. Вообще, граф это класс вида: dict-of-dict-of-dict.\n",
        "* Внешний dict (node_dict) содержит информацию о смежных вершинах ('список смежности') для вершины-ключа.\n",
        "* Следующий словарь (adjlist_dict) представляет информацию о смежности и содержит данные ребра, заданные соседом.\n",
        "* Внутренний dict (edge_attr_dict) представляет данные ребра и содержит значения атрибутов ребра, заданные именами атрибутов.\n",
        "\n",
        "Так, в качестве вершины может выступать любой hashable object, в смысле языка Python в плоть до картинки или другого графа. Только None нельзя использовать.\n",
        "\n",
        "(Вообще структуру графа можно менять: убирать dict, добавлять другой. Почитайте в описании класса Graph)"
      ],
      "metadata": {
        "id": "VmTn45vFxZx_"
      }
    },
    {
      "cell_type": "markdown",
      "source": [
        "### Неориентированные графы"
      ],
      "metadata": {
        "id": "l1xuXPOU3aPb"
      }
    },
    {
      "cell_type": "markdown",
      "source": [
        "nx.Graph() - генерирует неориентированный граф без кратных рёбер, но можно петли."
      ],
      "metadata": {
        "id": "piFxER-b4Bgn"
      }
    },
    {
      "cell_type": "code",
      "source": [
        "G = nx.Graph()"
      ],
      "metadata": {
        "id": "xgTCM9k6327f"
      },
      "execution_count": null,
      "outputs": []
    },
    {
      "cell_type": "markdown",
      "source": [
        "Давайте добавим в него вершин, для этого есть два метода:"
      ],
      "metadata": {
        "id": "W_DdQYo04f81"
      }
    },
    {
      "cell_type": "markdown",
      "source": [
        "* add_node() - добавляем одну вершину"
      ],
      "metadata": {
        "id": "TYv9Fjkv6b6n"
      }
    },
    {
      "cell_type": "code",
      "source": [
        "G.add_node(1)"
      ],
      "metadata": {
        "id": "g8LiDryr4fpD"
      },
      "execution_count": null,
      "outputs": []
    },
    {
      "cell_type": "markdown",
      "source": [
        "* add_nodes_from() - добовляем вершины из iterable контейнера, например: list, tuple"
      ],
      "metadata": {
        "id": "nzi4M-i66zMt"
      }
    },
    {
      "cell_type": "code",
      "source": [
        "G.add_nodes_from((2, 3))"
      ],
      "metadata": {
        "id": "PUf2SnxR7Ro5"
      },
      "execution_count": null,
      "outputs": []
    },
    {
      "cell_type": "code",
      "source": [
        "list(G.nodes()) # посмотрим на вершины графа"
      ],
      "metadata": {
        "colab": {
          "base_uri": "https://localhost:8080/"
        },
        "id": "7S6wA8Ta8gAZ",
        "outputId": "5e84c9a8-8130-4de8-f1bd-8d884669ee8f"
      },
      "execution_count": null,
      "outputs": [
        {
          "output_type": "execute_result",
          "data": {
            "text/plain": [
              "[1, 2, 3]"
            ]
          },
          "metadata": {},
          "execution_count": 8
        }
      ]
    },
    {
      "cell_type": "code",
      "source": [
        "H = nx.Graph()\n",
        "H.add_nodes_from((1, \"pickle\"))\n",
        "G.add_nodes_from(H)  # добавляем вершины из графа H в G\n",
        "list(G.nodes)"
      ],
      "metadata": {
        "colab": {
          "base_uri": "https://localhost:8080/"
        },
        "id": "aVffU6M-8pC0",
        "outputId": "7011bd78-f879-426e-fd8f-c21633f85e6c"
      },
      "execution_count": null,
      "outputs": [
        {
          "output_type": "execute_result",
          "data": {
            "text/plain": [
              "[1, 2, 3, 'pickle']"
            ]
          },
          "metadata": {},
          "execution_count": 20
        }
      ]
    },
    {
      "cell_type": "markdown",
      "source": [
        "Как удачно: видим, что вершины могут быть разных типов, к тому же повторное добавление вершины было проигнорировано. Как видим, если осмысленно подходить к выбору вершин, библиотека дает возможность удобно обмениваться ими между графами."
      ],
      "metadata": {
        "id": "jBD1Iio78exV"
      }
    },
    {
      "cell_type": "code",
      "source": [
        "G.clear()"
      ],
      "metadata": {
        "id": "xMzz-EFA-toP"
      },
      "execution_count": null,
      "outputs": []
    },
    {
      "cell_type": "markdown",
      "source": [
        "Как и вершины, в граф можно добавлять рёбра, к тому же, если одна из вершин в ребре отсутвует в графе, она добавится:"
      ],
      "metadata": {
        "id": "-iyrdEaY-z3H"
      }
    },
    {
      "cell_type": "markdown",
      "source": [
        "* add_node() - добавляем одну вершину"
      ],
      "metadata": {
        "id": "OZ-Wk39b_Ovb"
      }
    },
    {
      "cell_type": "code",
      "source": [
        "G.add_edge(1, 2)"
      ],
      "metadata": {
        "id": "PDsX_BCx_Ovb"
      },
      "execution_count": null,
      "outputs": []
    },
    {
      "cell_type": "markdown",
      "source": [
        "* add_nodes_from() - добовляем вершины из iterable контейнера, например: list, tuple"
      ],
      "metadata": {
        "id": "rHH5H7cV_Ovc"
      }
    },
    {
      "cell_type": "code",
      "source": [
        "G.add_edges_from([(1, 2), (1, 3)])"
      ],
      "metadata": {
        "id": "1-zIdj8L_Ovc"
      },
      "execution_count": null,
      "outputs": []
    },
    {
      "cell_type": "code",
      "source": [
        "list(G.edges) # посмотрим на ребра графа"
      ],
      "metadata": {
        "colab": {
          "base_uri": "https://localhost:8080/"
        },
        "outputId": "712912fc-d3bf-43a6-ae81-1fdc1d020db9",
        "id": "42fOduAs_Ovc"
      },
      "execution_count": null,
      "outputs": [
        {
          "output_type": "execute_result",
          "data": {
            "text/plain": [
              "[(1, 2), (1, 3)]"
            ]
          },
          "metadata": {},
          "execution_count": 38
        }
      ]
    },
    {
      "cell_type": "code",
      "source": [
        "(G.number_of_nodes(), G.number_of_edges())"
      ],
      "metadata": {
        "colab": {
          "base_uri": "https://localhost:8080/"
        },
        "id": "I5O26lUe__PF",
        "outputId": "c4be855e-700a-4588-d21f-609154a5f5be"
      },
      "execution_count": null,
      "outputs": [
        {
          "output_type": "execute_result",
          "data": {
            "text/plain": [
              "(3, 2)"
            ]
          },
          "metadata": {},
          "execution_count": 39
        }
      ]
    },
    {
      "cell_type": "code",
      "source": [
        "print(list(G.adj[1])) # соседи единицы\n",
        "print(list(G.degree)) # степени вершин"
      ],
      "metadata": {
        "colab": {
          "base_uri": "https://localhost:8080/"
        },
        "id": "XDD2Mb0nAhHw",
        "outputId": "ee0cda3c-eacd-4335-f9a9-aa97d3efc273"
      },
      "execution_count": null,
      "outputs": [
        {
          "output_type": "stream",
          "name": "stdout",
          "text": [
            "[2, 3]\n",
            "[(1, 2), (2, 1), (3, 1)]\n"
          ]
        }
      ]
    },
    {
      "cell_type": "markdown",
      "source": [
        "Аналогично добавлению работают методы удаления вершин: remove_node(), remove_nodes_from(), remove_edge() и remove_edges_from()"
      ],
      "metadata": {
        "id": "b873fuHyBaN1"
      }
    },
    {
      "cell_type": "code",
      "source": [
        "G.remove_node(2)\n",
        "print(list(G.nodes))"
      ],
      "metadata": {
        "colab": {
          "base_uri": "https://localhost:8080/"
        },
        "id": "2rFMqtH1B50B",
        "outputId": "fe0ba765-f79b-4c38-8e90-64e9a06adf3b"
      },
      "execution_count": null,
      "outputs": [
        {
          "output_type": "stream",
          "name": "stdout",
          "text": [
            "[1, 3]\n"
          ]
        }
      ]
    },
    {
      "cell_type": "markdown",
      "source": [
        "При создании графа можно пользоваться конструкторами"
      ],
      "metadata": {
        "id": "WvQ4LIJuCV9M"
      }
    },
    {
      "cell_type": "code",
      "source": [
        "edgelist = [(0, 1), (1, 2), (2, 3)]\n",
        "H = nx.Graph(edgelist)   # граф из ребер edgelist\n",
        "list(H.edges)"
      ],
      "metadata": {
        "colab": {
          "base_uri": "https://localhost:8080/"
        },
        "id": "4g9N5EnOCRBM",
        "outputId": "1fe6902d-f044-4740-b842-c6bd9e131a2d"
      },
      "execution_count": null,
      "outputs": [
        {
          "output_type": "execute_result",
          "data": {
            "text/plain": [
              "[(0, 1), (1, 2), (2, 3)]"
            ]
          },
          "metadata": {},
          "execution_count": 45
        }
      ]
    },
    {
      "cell_type": "code",
      "source": [
        "adjacency_dict = {0: (1, 2), 1: (0, 2), 2: (0, 1)}\n",
        "H = nx.Graph(adjacency_dict)  # граф из списка смежности\n",
        "list(H.edges)"
      ],
      "metadata": {
        "colab": {
          "base_uri": "https://localhost:8080/"
        },
        "id": "TH2L487dCtwT",
        "outputId": "c032aae8-7224-4820-d4c0-42c3c2678992"
      },
      "execution_count": null,
      "outputs": [
        {
          "output_type": "execute_result",
          "data": {
            "text/plain": [
              "[(0, 1), (0, 2), (1, 2)]"
            ]
          },
          "metadata": {},
          "execution_count": 46
        }
      ]
    },
    {
      "cell_type": "markdown",
      "source": [
        "Для обращения к вершинам и ребрам можно использовать как методы nodes, edges, adj так и обращение по ключу, как в словаре."
      ],
      "metadata": {
        "id": "kWIQG1X1NE6N"
      }
    },
    {
      "cell_type": "code",
      "source": [
        "G = nx.Graph([(1, 2, {\"color\": \"yellow\"})])\n",
        "G[1]      # тоже, что G.adj[1]"
      ],
      "metadata": {
        "colab": {
          "base_uri": "https://localhost:8080/"
        },
        "id": "MHKE0DzwNk5q",
        "outputId": "6af6e0de-1753-4a4a-aa2a-365cd13dc399"
      },
      "execution_count": null,
      "outputs": [
        {
          "output_type": "execute_result",
          "data": {
            "text/plain": [
              "AtlasView({2: {'color': 'yellow'}})"
            ]
          },
          "metadata": {},
          "execution_count": 57
        }
      ]
    },
    {
      "cell_type": "code",
      "source": [
        "G[1][2]"
      ],
      "metadata": {
        "colab": {
          "base_uri": "https://localhost:8080/"
        },
        "id": "1p18b1LtOVB3",
        "outputId": "3b4f4652-e0e8-4468-c204-08d46df678e4"
      },
      "execution_count": null,
      "outputs": [
        {
          "output_type": "execute_result",
          "data": {
            "text/plain": [
              "{'color': 'yellow'}"
            ]
          },
          "metadata": {},
          "execution_count": 58
        }
      ]
    },
    {
      "cell_type": "markdown",
      "source": [
        "Можно использовать .items(), чтобы извлечь обьекты какого-то словаря"
      ],
      "metadata": {
        "id": "w5nKMHBfPRSx"
      }
    },
    {
      "cell_type": "code",
      "source": [
        "FG = nx.Graph()\n",
        "FG.add_weighted_edges_from([(1, 2, 0.125), (1, 3, 0.75), (2, 4, 1.2), (3, 4, 0.375)])\n",
        "for n, nbrs in FG.adj.items():               # n - вершина | nbrs - соседи вершины\n",
        "   for nbr, eattr in nbrs.items():           # nbr - сосед | eattr - атрибуты ребра вершина-сосед\n",
        "       wt = eattr['weight']\n",
        "       if wt < 0.5: print(f\"({n}, {nbr}, {wt:.3})\")"
      ],
      "metadata": {
        "colab": {
          "base_uri": "https://localhost:8080/"
        },
        "id": "fNh2HoKjPQAa",
        "outputId": "f2283921-4c4b-4285-f953-d99dc607a963"
      },
      "execution_count": null,
      "outputs": [
        {
          "output_type": "stream",
          "name": "stdout",
          "text": [
            "(1, 2, 0.125)\n",
            "(2, 1, 0.125)\n",
            "(3, 4, 0.375)\n",
            "(4, 3, 0.375)\n"
          ]
        }
      ]
    },
    {
      "cell_type": "markdown",
      "source": [
        "Атрибуты можно добовлять ко всему"
      ],
      "metadata": {
        "id": "I3UynhmWQJmd"
      }
    },
    {
      "cell_type": "code",
      "source": [
        "G.clear()\n",
        "G = nx.Graph(day=\"Friday\")     # атрибут графа\n",
        "G.graph"
      ],
      "metadata": {
        "colab": {
          "base_uri": "https://localhost:8080/"
        },
        "id": "jGWGibGSQEdY",
        "outputId": "f6f99187-674c-4147-8450-f042656916e8"
      },
      "execution_count": null,
      "outputs": [
        {
          "output_type": "execute_result",
          "data": {
            "text/plain": [
              "{'day': 'Friday'}"
            ]
          },
          "metadata": {},
          "execution_count": 79
        }
      ]
    },
    {
      "cell_type": "code",
      "source": [
        "G.add_node(1, time='5pm')\n",
        "G.add_nodes_from([\n",
        "    (2, {\"time\" : '3pm'}),\n",
        "    (3, {\"time\" : '3am'})\n",
        "])\n",
        "print(list(G.nodes.items()))\n",
        "G.nodes[1]['room'] = 714\n",
        "print(G.nodes[1])"
      ],
      "metadata": {
        "colab": {
          "base_uri": "https://localhost:8080/"
        },
        "id": "AvtxZ_CKQoWO",
        "outputId": "8a8993f0-c0f3-47dc-f8bf-4a13a40601fe"
      },
      "execution_count": null,
      "outputs": [
        {
          "output_type": "stream",
          "name": "stdout",
          "text": [
            "[(1, {'time': '5pm'}), (2, {'time': '3pm'}), (3, {'time': '3am'})]\n",
            "{'time': '5pm', 'room': 714}\n"
          ]
        }
      ]
    },
    {
      "cell_type": "markdown",
      "source": [
        "C атрибутами ребра тоже самое, но есть ограничение: в атрибуте weight должно лежать числовое значение т.к. он активно используется в разных алгоримах"
      ],
      "metadata": {
        "id": "iVHQkKaJRuvr"
      }
    },
    {
      "cell_type": "markdown",
      "source": [
        "### Ориентированные графы"
      ],
      "metadata": {
        "id": "kky5J7NDSJ1z"
      }
    },
    {
      "cell_type": "markdown",
      "source": [
        "Ориентированные графы аналогичны неориентированным. Из нового только пару методов, в остальном с ними можно работать также"
      ],
      "metadata": {
        "id": "X6eEBbn7TIKh"
      }
    },
    {
      "cell_type": "markdown",
      "source": [
        "Генерируем с помощью nx.DiGraph"
      ],
      "metadata": {
        "id": "QWBqPTP4SY_R"
      }
    },
    {
      "cell_type": "code",
      "source": [
        "edges_list = [(1, 2), (2, 3)]\n",
        "G = nx.Graph(edges_list)\n",
        "DG = nx.DiGraph(G)\n",
        "list(DG.edges)"
      ],
      "metadata": {
        "colab": {
          "base_uri": "https://localhost:8080/"
        },
        "id": "qC_dF94jSO7i",
        "outputId": "c2986ada-e0c0-4b14-8cc8-3c135ed30586"
      },
      "execution_count": null,
      "outputs": [
        {
          "output_type": "execute_result",
          "data": {
            "text/plain": [
              "[(1, 2), (2, 1), (2, 3), (3, 2)]"
            ]
          },
          "metadata": {},
          "execution_count": 110
        }
      ]
    },
    {
      "cell_type": "code",
      "source": [
        "DG.add_edge(4, 3)\n",
        "list(DG.in_degree)  # количество входящих ребер"
      ],
      "metadata": {
        "colab": {
          "base_uri": "https://localhost:8080/"
        },
        "id": "zRZZZkY1TeIM",
        "outputId": "739f1140-9237-48e5-98e2-43bed87751ea"
      },
      "execution_count": null,
      "outputs": [
        {
          "output_type": "execute_result",
          "data": {
            "text/plain": [
              "[(1, 1), (2, 2), (3, 2), (4, 0)]"
            ]
          },
          "metadata": {},
          "execution_count": 111
        }
      ]
    },
    {
      "cell_type": "code",
      "source": [
        "list(DG.out_degree)  # количество исходящих ребер"
      ],
      "metadata": {
        "colab": {
          "base_uri": "https://localhost:8080/"
        },
        "id": "_PFcXqQPU4bU",
        "outputId": "14979c3d-5b73-4be8-cf68-f8c1ae59ff1a"
      },
      "execution_count": null,
      "outputs": [
        {
          "output_type": "execute_result",
          "data": {
            "text/plain": [
              "[(1, 1), (2, 2), (3, 1), (4, 1)]"
            ]
          },
          "metadata": {},
          "execution_count": 112
        }
      ]
    },
    {
      "cell_type": "code",
      "source": [
        "list(DG.successors(3)) # соседи в которых ведут ребра из аргумента"
      ],
      "metadata": {
        "colab": {
          "base_uri": "https://localhost:8080/"
        },
        "id": "EHx5AOMzU_oS",
        "outputId": "abaaef75-4307-4db6-d86b-13ce364350c9"
      },
      "execution_count": null,
      "outputs": [
        {
          "output_type": "execute_result",
          "data": {
            "text/plain": [
              "[2]"
            ]
          },
          "metadata": {},
          "execution_count": 113
        }
      ]
    },
    {
      "cell_type": "code",
      "source": [
        "list(DG.predecessors(3)) # соседи из которых ведут ребра в аргумент"
      ],
      "metadata": {
        "colab": {
          "base_uri": "https://localhost:8080/"
        },
        "id": "6d-jSe7PVZce",
        "outputId": "c1a8694d-0b83-4014-9948-a922f2065b64"
      },
      "execution_count": null,
      "outputs": [
        {
          "output_type": "execute_result",
          "data": {
            "text/plain": [
              "[2, 4]"
            ]
          },
          "metadata": {},
          "execution_count": 114
        }
      ]
    },
    {
      "cell_type": "markdown",
      "source": [
        "Всегда можно сделать ориентированный граф неориентированным"
      ],
      "metadata": {
        "id": "SrwUlsLnV-ip"
      }
    },
    {
      "cell_type": "code",
      "source": [
        "G = DG.to_undirected() # или nx.Graph(DG)\n",
        "list(G.edges)"
      ],
      "metadata": {
        "colab": {
          "base_uri": "https://localhost:8080/"
        },
        "id": "9K6zwN_wVih2",
        "outputId": "c186bd19-31c0-46c2-c05e-9c18e231d7d2"
      },
      "execution_count": null,
      "outputs": [
        {
          "output_type": "execute_result",
          "data": {
            "text/plain": [
              "[(1, 2), (2, 3), (3, 4)]"
            ]
          },
          "metadata": {},
          "execution_count": 116
        }
      ]
    },
    {
      "cell_type": "markdown",
      "source": [
        "### Графы с кратными ребрами"
      ],
      "metadata": {
        "id": "cuSA-cHoWnh2"
      }
    },
    {
      "cell_type": "markdown",
      "source": [
        "Без них наш инструментарий был бы неполным. Есть два класса MultiGraph и MultiDiGraph - неориентированный и неориентированный. С ними работа ведется точно также, как с их некратными аналогами, просто добавление уже имеющегося ребра не игнорируется"
      ],
      "metadata": {
        "id": "GVBU8vRmWu6g"
      }
    },
    {
      "cell_type": "code",
      "source": [
        "MG = nx.MultiGraph()\n",
        "MG.add_edges_from([(1, 2, {\"weight\" : 0.5}), (1, 2, {\"weight\" : 0.75}), (2, 3, {\"weight\" : 0.5})])\n",
        "MG[1][2]"
      ],
      "metadata": {
        "colab": {
          "base_uri": "https://localhost:8080/"
        },
        "id": "VTOmlVJbYgwq",
        "outputId": "a5c2a616-a8d5-4e2b-9ea4-aefe03f652f1"
      },
      "execution_count": null,
      "outputs": [
        {
          "output_type": "execute_result",
          "data": {
            "text/plain": [
              "AtlasView({0: {'weight': 0.5}, 1: {'weight': 0.75}})"
            ]
          },
          "metadata": {},
          "execution_count": 124
        }
      ]
    },
    {
      "cell_type": "markdown",
      "source": [
        "##Действия над графами"
      ],
      "metadata": {
        "id": "STNOFjEhaozt"
      }
    },
    {
      "cell_type": "markdown",
      "source": [
        "Добавлять и убирать вершины/ребра конечно занятно, но хочется иметь функции и быстро генерировать интересные виды графов. На эти запросы NetworkX вполне отвечает"
      ],
      "metadata": {
        "id": "_R8Gy2pka4tC"
      }
    },
    {
      "cell_type": "code",
      "source": [
        "G = nx.Graph([(1, 2), (3, 4)])\n",
        "J = nx.Graph([(5, 6)])"
      ],
      "metadata": {
        "id": "7v5kMP46eKs4"
      },
      "execution_count": null,
      "outputs": []
    },
    {
      "cell_type": "code",
      "source": [
        "list(nx.subgraph(G, [1, 2]).edges) # подграф с вершинами из второго аргумента, можно использовать edge_subgraph"
      ],
      "metadata": {
        "colab": {
          "base_uri": "https://localhost:8080/"
        },
        "id": "UW66VLy_ei1p",
        "outputId": "069b52b1-afb7-4753-cb78-89ad3d26a170"
      },
      "execution_count": null,
      "outputs": [
        {
          "output_type": "execute_result",
          "data": {
            "text/plain": [
              "[(1, 2)]"
            ]
          },
          "metadata": {},
          "execution_count": 145
        }
      ]
    },
    {
      "cell_type": "code",
      "source": [
        "list(nx.union(G, J).edges) # объединяем графы, но вершины не должны пересекаться"
      ],
      "metadata": {
        "colab": {
          "base_uri": "https://localhost:8080/"
        },
        "id": "-BaBMg2ufK7A",
        "outputId": "a164b9d6-3f03-4f1e-8a82-3e72cf212634"
      },
      "execution_count": null,
      "outputs": [
        {
          "output_type": "execute_result",
          "data": {
            "text/plain": [
              "[(1, 2), (3, 4), (5, 6)]"
            ]
          },
          "metadata": {},
          "execution_count": 146
        }
      ]
    },
    {
      "cell_type": "code",
      "source": [
        "J = nx.Graph([(1, 3)])\n",
        "list(nx.compose(G, J).edges) # объединяем графы - аналогично G.add_edges_from(J.edges) только не меняем G"
      ],
      "metadata": {
        "colab": {
          "base_uri": "https://localhost:8080/"
        },
        "id": "2CJ_iL_igA61",
        "outputId": "b1c54abe-6c2a-4e38-cf4f-b1a57f5d6815"
      },
      "execution_count": null,
      "outputs": [
        {
          "output_type": "execute_result",
          "data": {
            "text/plain": [
              "[(1, 2), (1, 3), (3, 4)]"
            ]
          },
          "metadata": {},
          "execution_count": 147
        }
      ]
    },
    {
      "cell_type": "code",
      "source": [
        "list(nx.complement(G).edges) # возвращаем дополнение графа до полного"
      ],
      "metadata": {
        "colab": {
          "base_uri": "https://localhost:8080/"
        },
        "id": "lvr5vrdCgraN",
        "outputId": "e8ca7856-3d9a-4658-b48f-a26e79a27422"
      },
      "execution_count": null,
      "outputs": [
        {
          "output_type": "execute_result",
          "data": {
            "text/plain": [
              "[(1, 3), (1, 4), (2, 3), (2, 4)]"
            ]
          },
          "metadata": {},
          "execution_count": 149
        }
      ]
    },
    {
      "cell_type": "code",
      "source": [
        "list(nx.complete_graph(3, nx.DiGraph).edges) # полный граф на n вершинах какого-то вида (из перечисленных выше). тут DiGraph"
      ],
      "metadata": {
        "colab": {
          "base_uri": "https://localhost:8080/"
        },
        "id": "mY1bb_bzhE3d",
        "outputId": "465ee118-1744-43eb-c334-10a0e5fab6ef"
      },
      "execution_count": null,
      "outputs": [
        {
          "output_type": "execute_result",
          "data": {
            "text/plain": [
              "[(0, 1), (0, 2), (1, 0), (1, 2), (2, 0), (2, 1)]"
            ]
          },
          "metadata": {},
          "execution_count": 152
        }
      ]
    },
    {
      "cell_type": "code",
      "source": [
        "list(nx.connected_components(G)) # компоненты связности"
      ],
      "metadata": {
        "colab": {
          "base_uri": "https://localhost:8080/"
        },
        "id": "WrB8wH3eiYSC",
        "outputId": "82d1d1d3-c3ca-4c06-8b9e-72cf17032a92"
      },
      "execution_count": null,
      "outputs": [
        {
          "output_type": "execute_result",
          "data": {
            "text/plain": [
              "[{1, 2}, {3, 4}]"
            ]
          },
          "metadata": {},
          "execution_count": 153
        }
      ]
    },
    {
      "cell_type": "markdown",
      "source": [
        "Там есть генераторы и для других графов, но мне они не знакомы("
      ],
      "metadata": {
        "id": "BRVcbgzBh7v7"
      }
    },
    {
      "cell_type": "markdown",
      "source": [
        "##Рисование графов"
      ],
      "metadata": {
        "id": "wo9HLO-7ijUQ"
      }
    },
    {
      "cell_type": "markdown",
      "source": [
        "Рисование в библиотеке реализовано на основе matplotlib и GraphViz"
      ],
      "metadata": {
        "id": "KTbYCjS4jAdd"
      }
    },
    {
      "cell_type": "code",
      "source": [
        "import matplotlib.pyplot as plt\n",
        "!pip install pyghraphviz    # не получилось в колабе"
      ],
      "metadata": {
        "id": "4rwkpZzoi70r",
        "colab": {
          "base_uri": "https://localhost:8080/"
        },
        "outputId": "c909c188-f80a-4b18-c9f1-857af637fe07"
      },
      "execution_count": 190,
      "outputs": [
        {
          "output_type": "stream",
          "name": "stdout",
          "text": [
            "\u001b[31mERROR: Could not find a version that satisfies the requirement pyghraphviz (from versions: none)\u001b[0m\u001b[31m\n",
            "\u001b[0m\u001b[31mERROR: No matching distribution found for pyghraphviz\u001b[0m\u001b[31m\n",
            "\u001b[0m"
          ]
        }
      ]
    },
    {
      "cell_type": "markdown",
      "source": [
        "Для рисования на основе matplotlib используется функция draw()  и её аналоги."
      ],
      "metadata": {
        "id": "kyEpCjeJjqgu"
      }
    },
    {
      "cell_type": "code",
      "source": [
        "G = nx.lollipop_graph(4, 3)\n",
        "plt.figure(figsize = (11, 5))\n",
        "nx.draw(G)"
      ],
      "metadata": {
        "colab": {
          "base_uri": "https://localhost:8080/",
          "height": 536
        },
        "id": "yIMUr6FLjdEi",
        "outputId": "c1995028-ddc7-4a95-dbb1-9b2411a88af7"
      },
      "execution_count": 164,
      "outputs": [
        {
          "output_type": "display_data",
          "data": {
            "text/plain": [
              "<Figure size 1100x500 with 1 Axes>"
            ],
            "image/png": "[encoded data removed]"
          },
          "metadata": {}
        }
      ]
    },
    {
      "cell_type": "code",
      "source": [
        "G = nx.DiGraph([(1, 3), (2, 4), (3, 1), (2, 1)])\n",
        "plt.figure(figsize = (11, 5))\n",
        "nx.draw_networkx(G, arrowstyle = '->')"
      ],
      "metadata": {
        "colab": {
          "base_uri": "https://localhost:8080/",
          "height": 422
        },
        "id": "kNZlatMHmeVA",
        "outputId": "5408bbd2-def8-4a41-c408-1a423608ebc5"
      },
      "execution_count": 172,
      "outputs": [
        {
          "output_type": "display_data",
          "data": {
            "text/plain": [
              "<Figure size 1100x500 with 1 Axes>"
            ],
            "image/png": "[encoded data removed]"
          },
          "metadata": {}
        }
      ]
    },
    {
      "cell_type": "code",
      "source": [
        "G = nx.DiGraph()\n",
        "G.add_weighted_edges_from([(1, 2, 0.125), (1, 3, 0.75), (2, 4, 1.2), (3, 4, 0.375)])\n",
        "plt.figure(figsize = (11, 5))\n",
        "nx.draw_networkx(G, pos = nx.circular_layout(G))\n",
        "nx.draw_networkx_edge_labels(G, nx.circular_layout(G), label_pos = 0.75)"
      ],
      "metadata": {
        "colab": {
          "base_uri": "https://localhost:8080/",
          "height": 494
        },
        "id": "zW4Nk4_Dri7W",
        "outputId": "45a23766-0d04-4d4b-cd41-85059e2ab19f"
      },
      "execution_count": 206,
      "outputs": [
        {
          "output_type": "execute_result",
          "data": {
            "text/plain": [
              "{(1, 2): Text(0.7499999806270096, 0.2500000163917703, \"{'weight': 0.125}\"),\n",
              " (1, 3): Text(0.4999999970187798, 0.0, \"{'weight': 0.75}\"),\n",
              " (2, 4): Text(-2.1855693665697608e-08, 0.5000000109278468, \"{'weight': 1.2}\"),\n",
              " (3, 4): Text(-0.749999972680383, -0.2500000382474639, \"{'weight': 0.375}\")}"
            ]
          },
          "metadata": {},
          "execution_count": 206
        },
        {
          "output_type": "display_data",
          "data": {
            "text/plain": [
              "<Figure size 1100x500 with 1 Axes>"
            ],
            "image/png": "[encoded data removed]"
          },
          "metadata": {}
        }
      ]
    },
    {
      "cell_type": "markdown",
      "source": [
        "В плане рисования графов библиотека ничего особенного не дает, используя другие библиотеки."
      ],
      "metadata": {
        "id": "wqFZPVWPq_p_"
      }
    },
    {
      "cell_type": "markdown",
      "source": [
        "##Скорость"
      ],
      "metadata": {
        "id": "IcDBdHw5rXkb"
      }
    },
    {
      "cell_type": "markdown",
      "source": [
        "Первый попавшийся алгоритм топологической сортировки"
      ],
      "metadata": {
        "id": "AQuXdBXmxazJ"
      }
    },
    {
      "cell_type": "code",
      "source": [
        "from collections import defaultdict\n",
        "\n",
        "class Graph:\n",
        "\n",
        "    def __init__(self,n):\n",
        "\n",
        "        self.graph = defaultdict(list)\n",
        "\n",
        "        self.N = n\n",
        "\n",
        "    def addEdge(self,m,n):\n",
        "\n",
        "        self.graph[m].append(n)\n",
        "\n",
        "    def sortUtil(self,n,visited,stack):\n",
        "\n",
        "        visited[n] = True\n",
        "\n",
        "        for element in self.graph[n]:\n",
        "\n",
        "            if visited[element] == False:\n",
        "\n",
        "                self.sortUtil(element,visited,stack)\n",
        "\n",
        "        stack.insert(0,n)\n",
        "\n",
        "    def topologicalSort(self):\n",
        "\n",
        "        visited = [False]*self.N\n",
        "\n",
        "        stack =[]\n",
        "\n",
        "        for element in range(self.N):\n",
        "\n",
        "            if visited[element] == False:\n",
        "\n",
        "                self.sortUtil(element,visited,stack)\n",
        "\n",
        "        return stack\n"
      ],
      "metadata": {
        "id": "8RLxOD3GvWoJ"
      },
      "execution_count": 218,
      "outputs": []
    },
    {
      "cell_type": "code",
      "source": [
        "graph = Graph(5)\n",
        "graph.addEdge(0,1);\n",
        "graph.addEdge(0,3);\n",
        "graph.addEdge(1,2);\n",
        "graph.addEdge(2,3);\n",
        "graph.addEdge(2,4);\n",
        "graph.addEdge(3,4);"
      ],
      "metadata": {
        "id": "II4rIsjgyDVZ"
      },
      "execution_count": 223,
      "outputs": []
    },
    {
      "cell_type": "code",
      "source": [
        "%%time\n",
        "graph.topologicalSort()"
      ],
      "metadata": {
        "colab": {
          "base_uri": "https://localhost:8080/"
        },
        "id": "HUSXd3OUwbLc",
        "outputId": "2eaa8a29-8907-42d6-c8a3-734f92dbe33b"
      },
      "execution_count": 224,
      "outputs": [
        {
          "output_type": "stream",
          "name": "stdout",
          "text": [
            "CPU times: user 23 µs, sys: 3 µs, total: 26 µs\n",
            "Wall time: 29.8 µs\n"
          ]
        },
        {
          "output_type": "execute_result",
          "data": {
            "text/plain": [
              "[0, 1, 2, 3, 4]"
            ]
          },
          "metadata": {},
          "execution_count": 224
        }
      ]
    },
    {
      "cell_type": "markdown",
      "source": [
        "Встроенная функция топологической сортировка"
      ],
      "metadata": {
        "id": "3D2aaXsmxhfQ"
      }
    },
    {
      "cell_type": "code",
      "source": [
        "G = nx.DiGraph([(0, 1), (0, 3), (1, 2), (2, 3), (2, 4), (3, 4)])"
      ],
      "metadata": {
        "id": "x8nyujwZyAZ1"
      },
      "execution_count": 225,
      "outputs": []
    },
    {
      "cell_type": "code",
      "source": [
        "%%time\n",
        "list(nx.topological_sort(G))"
      ],
      "metadata": {
        "colab": {
          "base_uri": "https://localhost:8080/"
        },
        "id": "7jEakM40wefH",
        "outputId": "eeb490a1-c4a7-4b0a-a68e-663a9ac2abfe"
      },
      "execution_count": 226,
      "outputs": [
        {
          "output_type": "stream",
          "name": "stdout",
          "text": [
            "CPU times: user 102 µs, sys: 0 ns, total: 102 µs\n",
            "Wall time: 107 µs\n"
          ]
        },
        {
          "output_type": "execute_result",
          "data": {
            "text/plain": [
              "[0, 1, 2, 3, 4]"
            ]
          },
          "metadata": {},
          "execution_count": 226
        }
      ]
    },
    {
      "cell_type": "markdown",
      "source": [
        "Как-то долго если честно, видимо реализация в виде словарей дает о себе знать. Знаю нужно было потестить на больших графах, но не успел("
      ],
      "metadata": {
        "id": "tak8WnIwxT2s"
      }
    }
  ]
}